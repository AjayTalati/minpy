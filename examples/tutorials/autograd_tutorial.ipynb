{
 "cells": [
  {
   "cell_type": "markdown",
   "metadata": {},
   "source": [
    "# Autograd in MinPy\n",
    "\n",
    "Writing backprop is often the most tedious and error prone part of a deep net implementation. In fact, the feature of autograd has wide applications and goes beyond the domain of deep learning. MinPy's autograd applies to any NumPy code that is imperatively programmed. Moreover, it is seemlessly integrated with MXNet's symbolic program (see <a href=\"http://minpy.readthedocs.io/en/latest/tutorial/complete_sol_opt_guide/complete.html\">for example</a>). By using MXNet's execution engine, all operations can be executed in GPU if available.\n",
    "\n",
    "## A Close Look at Autograd System\n",
    "MinPy's implementation of autograd is insprired from the <a href=\"https://github.com/HIPS/autograd\"> Autograd project</a>. It computes a gradient function for any single-output function. For example, we define a simple function `foo`:"
   ]
  },
  {
   "cell_type": "code",
   "execution_count": 1,
   "metadata": {
    "collapsed": false
   },
   "outputs": [
    {
     "data": {
      "text/plain": [
       "16"
      ]
     },
     "execution_count": 1,
     "metadata": {},
     "output_type": "execute_result"
    }
   ],
   "source": [
    "def foo(x):\n",
    "    return x**2\n",
    "\n",
    "foo(4)"
   ]
  },
  {
   "cell_type": "markdown",
   "metadata": {},
   "source": [
    "Now we want to get its derivative. To do so, simply import `grad` from `minpy.core`."
   ]
  },
  {
   "cell_type": "code",
   "execution_count": 15,
   "metadata": {
    "collapsed": false
   },
   "outputs": [],
   "source": [
    "import minpy.numpy as np  # currently need import this at the same time\n",
    "from minpy.core import grad\n",
    "\n",
    "d_foo = grad(foo)"
   ]
  },
  {
   "cell_type": "code",
   "execution_count": 16,
   "metadata": {
    "collapsed": false
   },
   "outputs": [
    {
     "data": {
      "text/plain": [
       "8.0"
      ]
     },
     "execution_count": 16,
     "metadata": {},
     "output_type": "execute_result"
    }
   ],
   "source": [
    "d_foo(4)"
   ]
  },
  {
   "cell_type": "markdown",
   "metadata": {},
   "source": [
    "You can also differentiate as many times as you want:"
   ]
  },
  {
   "cell_type": "code",
   "execution_count": 17,
   "metadata": {
    "collapsed": false
   },
   "outputs": [],
   "source": [
    "d_2_foo = grad(d_foo)\n",
    "d_3_foo = grad(d_foo)"
   ]
  },
  {
   "cell_type": "markdown",
   "metadata": {},
   "source": [
    "Now import `matplotlib` to visualize the derivatives."
   ]
  },
  {
   "cell_type": "code",
   "execution_count": 18,
   "metadata": {
    "collapsed": false
   },
   "outputs": [
    {
     "data": {
      "image/png": "[encoded data removed]",
      "text/plain": [
       "<matplotlib.figure.Figure at 0x10745f050>"
      ]
     },
     "metadata": {},
     "output_type": "display_data"
    }
   ],
   "source": [
    "import matplotlib.pyplot as plt\n",
    "%matplotlib inline\n",
    "plt.rcParams['figure.figsize'] = (10.0, 8.0) # set default size of plots\n",
    "plt.rcParams['image.interpolation'] = 'nearest'\n",
    "plt.rcParams['image.cmap'] = 'gray'\n",
    "\n",
    "x = np.linspace(-10, 10, 200)\n",
    "# plt.plot only takes ndarray as input. Explicitly convert MinPy Array into ndarray.\n",
    "plt.plot(x.asnumpy(), foo(x).asnumpy(),\n",
    "         x.asnumpy(), d_foo(x).asnumpy(),\n",
    "         x.asnumpy(), d_2_foo(x).asnumpy(),\n",
    "         x.asnumpy(), d_3_foo(x).asnumpy())\n",
    "plt.show()"
   ]
  },
  {
   "cell_type": "markdown",
   "metadata": {},
   "source": [
    "Just as you expected."
   ]
  },
  {
   "cell_type": "markdown",
   "metadata": {},
   "source": [
    "Autograd also differentiates vector inputs. For example:"
   ]
  },
  {
   "cell_type": "code",
   "execution_count": 19,
   "metadata": {
    "collapsed": false
   },
   "outputs": [
    {
     "data": {
      "text/plain": [
       "[ 2.  4.  6.  8.]"
      ]
     },
     "execution_count": 19,
     "metadata": {},
     "output_type": "execute_result"
    }
   ],
   "source": [
    "x = np.array([1, 2, 3, 4])\n",
    "d_foo(x)"
   ]
  },
  {
   "cell_type": "markdown",
   "metadata": {},
   "source": [
    "The following section introduces a more comprehensive example with matrix calculus."
   ]
  },
  {
   "cell_type": "markdown",
   "metadata": {},
   "source": [
    "## Autograd for Loss Function\n",
    "\n",
    "In the world of machine learning we optimize a scalar loss, Autograd is particular useful to obtain the gradient of the model parameters in order to perform parameter updates. For example, we define an affine layer, relu layer, and a softmax loss."
   ]
  },
  {
   "cell_type": "code",
   "execution_count": 20,
   "metadata": {
    "collapsed": true
   },
   "outputs": [],
   "source": [
    "def affine(x, w, b):\n",
    "    \"\"\"\n",
    "    Computes the forward pass for an affine (fully-connected) layer.\n",
    "    The input x has shape (N, d_1, ..., d_k) and contains a minibatch of N\n",
    "    examples, where each example x[i] has shape (d_1, ..., d_k). We will\n",
    "    reshape each input into a vector of dimension D = d_1 * ... * d_k, and\n",
    "    then transform it to an output vector of dimension M.\n",
    "    Inputs:\n",
    "    - x: A numpy array containing input data, of shape (N, d_1, ..., d_k)\n",
    "    - w: A numpy array of weights, of shape (D, M)\n",
    "    - b: A numpy array of biases, of shape (M,)\n",
    "    Returns a tuple of:\n",
    "    - out: output, of shape (N, M)\n",
    "    \"\"\"\n",
    "    out = np.dot(x, w) + b\n",
    "    return out\n",
    "\n",
    "def relu(x):\n",
    "    \"\"\"\n",
    "    Computes the forward pass for a layer of rectified linear units (ReLUs).\n",
    "    Input:\n",
    "    - x: Inputs, of any shape\n",
    "    Returns a tuple of:\n",
    "    - out: Output, of the same shape as x\n",
    "    \"\"\"\n",
    "    out = np.maximum(0, x)\n",
    "    return out\n",
    "\n",
    "def softmax_loss(x, y):\n",
    "    \"\"\"\n",
    "    Computes the loss and gradient for softmax classification.\n",
    "    Inputs:\n",
    "    - x: Input data, of shape (N, C) where x[i, j] is the score for the jth class\n",
    "    for the ith input.\n",
    "    - y: Vector of labels, of shape (N,) where y[i] is the label for x[i] and\n",
    "    0 <= y[i] < C\n",
    "    Returns a tuple of:\n",
    "    - loss: Scalar giving the loss\n",
    "    \"\"\"\n",
    "    N = x.shape[0]\n",
    "    C = x.shape[1]\n",
    "    probs = np.exp(x - np.max(x, axis=1, keepdims=True))\n",
    "    probs = probs / np.sum(probs, axis=1, keepdims=True)\n",
    "    loss = -np.sum(np.log(probs) * y) / N\n",
    "    return loss"
   ]
  },
  {
   "cell_type": "markdown",
   "metadata": {},
   "source": [
    "Then we use these layers to define a single layer fully-connected network, with a softmax output."
   ]
  },
  {
   "cell_type": "code",
   "execution_count": 35,
   "metadata": {
    "collapsed": false
   },
   "outputs": [],
   "source": [
    "class SimpleNet(object):\n",
    "    def __init__(self, input_size=100, num_class=3):\n",
    "        # Define model parameters.\n",
    "        self.params = {}\n",
    "        self.params['w'] = np.random.randn(input_size, num_class) * 0.01\n",
    "        self.params['b'] = 0\n",
    "\n",
    "    def forward(self, X):\n",
    "        # First affine layer (fully-connected layer).\n",
    "        y1 = affine(X, self.params['w'], self.params['b'])\n",
    "        # ReLU activation.\n",
    "        y2 = relu(y1)\n",
    "        return y2\n",
    "\n",
    "    def loss(self, X, y):\n",
    "        # Compute softmax loss between the output and the label.\n",
    "        return softmax_loss(self.forward(X), y)"
   ]
  },
  {
   "cell_type": "code",
   "execution_count": 37,
   "metadata": {
    "collapsed": false
   },
   "outputs": [],
   "source": [
    "batch_size = 100\n",
    "input_size = 50\n",
    "num_class = 3\n",
    "\n",
    "# define a 1-hidden network\n",
    "net = SimpleNet(input_size, num_class)\n",
    "x = np.random.randn(batch_size, input_size)\n",
    "\n",
    "# Generate multinomial labels. Currently MinPy's default policy lacks full support of slice operation.\n",
    "import numpy as npp\n",
    "labels = npp.random.randint(0, 3, size=batch_size)\n",
    "y = npp.zeros((batch_size, num_class))\n",
    "y[npp.arange(batch_size), labels] = 1\n",
    "\n",
    "# make the output a minpy NDArray\n",
    "from minpy.core import numpy_to_minpy as nm\n",
    "y = nm(y)"
   ]
  },
  {
   "cell_type": "code",
   "execution_count": 38,
   "metadata": {
    "collapsed": false
   },
   "outputs": [],
   "source": [
    "gradient = grad(net.loss)"
   ]
  },
  {
   "cell_type": "markdown",
   "metadata": {},
   "source": [
    "Then we can get gradient by simply call `gradient(X, y)`."
   ]
  },
  {
   "cell_type": "code",
   "execution_count": 39,
   "metadata": {
    "collapsed": false
   },
   "outputs": [],
   "source": [
    "d_x = gradient(x, y)"
   ]
  },
  {
   "cell_type": "markdown",
   "metadata": {},
   "source": [
    "## Gradient of Multivariate Functions\n",
    "If you have a multivariate function, specify arguments for derivative calculation. Only the specified argument will be calcualted. Simply pass the position of the target argument (of a list of arguments) in `grad`. For example:"
   ]
  },
  {
   "cell_type": "code",
   "execution_count": 40,
   "metadata": {
    "collapsed": true
   },
   "outputs": [],
   "source": [
    "def bar(a, b, c):\n",
    "    return 3*a + b**2 - c"
   ]
  },
  {
   "cell_type": "markdown",
   "metadata": {},
   "source": [
    "We get their gradients by specifying their argument position."
   ]
  },
  {
   "cell_type": "code",
   "execution_count": 41,
   "metadata": {
    "collapsed": false
   },
   "outputs": [
    {
     "name": "stdout",
     "output_type": "stream",
     "text": [
      "[3.0, 6.0, -1.0]\n"
     ]
    }
   ],
   "source": [
    "gradient = grad(bar, [0, 1, 2])\n",
    "grad_array = gradient(2, 3, 4)\n",
    "print grad_array"
   ]
  },
  {
   "cell_type": "markdown",
   "metadata": {},
   "source": [
    "`grad_array[0]`, `grad_array[1]`, and `grad_array[2]` are gradients of argument `a`, `b`, and `c`."
   ]
  },
  {
   "cell_type": "markdown",
   "metadata": {},
   "source": [
    "## Less Calculation for Forward Pass and Backward Pass\n",
    "Since gradient calculation in MinPy needs forward pass information, if you need the forward result and the gradient calculation at the same time, please use `grad_and_loss` to get them simultaneously. In fact, `grad` is just a wrapper of `grad_and_loss`. For example, we can get"
   ]
  },
  {
   "cell_type": "code",
   "execution_count": 42,
   "metadata": {
    "collapsed": false
   },
   "outputs": [],
   "source": [
    "from minpy.core import grad_and_loss\n",
    "forward_backward = grad_and_loss(bar, [0, 1, 2])\n",
    "grad_array, result = forward_backward(2, 3, 4)"
   ]
  },
  {
   "cell_type": "markdown",
   "metadata": {},
   "source": [
    "`grad_array` and `result` are result of gradient and forward pass respectively."
   ]
  }
 ],
 "metadata": {
  "kernelspec": {
   "display_name": "Python 2",
   "language": "python",
   "name": "python2"
  },
  "language_info": {
   "codemirror_mode": {
    "name": "ipython",
    "version": 2
   },
   "file_extension": ".py",
   "mimetype": "text/x-python",
   "name": "python",
   "nbconvert_exporter": "python",
   "pygments_lexer": "ipython2",
   "version": "2.7.10"
  }
 },
 "nbformat": 4,
 "nbformat_minor": 0
}
