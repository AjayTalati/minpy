{
 "cells": [
  {
   "cell_type": "markdown",
   "metadata": {},
   "source": [
    "# NDArray Tutorial\n",
    "\n",
    "This part of tutorial is also available in step-by-step notebook version on [github](https://github.com/dmlc/minpy/blob/master/examples/tutorials/ndarray_tutorial.ipynb). Please try it out!\n",
    "\n",
    "## Basic NDArray Operation\n",
    "\n",
    "MinPy has the same syntax as NumPy, which is flexible and familiar. You only need to replace `import numpy as np` with `import minpy.numpy as np` at the header of NumPy program. We have a brief introduction below to prove this point. if you are not familiar with NumPy, you may want to look up [NumPy Quickstart Tutorial](https://docs.scipy.org/doc/numpy-dev/user/quickstart.html) for more details."
   ]
  },
  {
   "cell_type": "markdown",
   "metadata": {},
   "source": [
    "### Array Creation \n",
    "An array can be created in multiple ways. For example, we can create an array from a regular Python list or tuple by using the `array` function"
   ]
  },
  {
   "cell_type": "code",
   "execution_count": 1,
   "metadata": {
    "collapsed": true
   },
   "outputs": [],
   "source": [
    "import minpy.numpy as np\n",
    "# import numpy as np\n",
    "\n",
    "a = np.array([1,2,3])  # create a 1-dimensional array with a python list\n",
    "b = np.array([[1,2,3], [2,3,4]])  # create a 2-dimensional array with a nested python list "
   ]
  },
  {
   "cell_type": "markdown",
   "metadata": {},
   "source": [
    "If we only know the size but not the element values, there are several functions to create arrays with initial placeholder content. "
   ]
  },
  {
   "cell_type": "code",
   "execution_count": 2,
   "metadata": {
    "collapsed": true
   },
   "outputs": [],
   "source": [
    "a = np.zeros((2,3))    # create a 2-dimensional array full of zeros with shape (2,3)  \n",
    "b = np.ones((2,3))     # create a same shape array full of ones\n",
    "c = np.full((2,3), 7)  # create a same shape array with all elements set to 7\n",
    "d = np.empty((2,3))    # create a same shape whose initial content is random and depends on the state of the memory"
   ]
  },
  {
   "cell_type": "markdown",
   "metadata": {},
   "source": [
    "### Basic Operations\n",
    "Arithmetic operators on arrays apply *elementwise*. A new array is created and filled with the result."
   ]
  },
  {
   "cell_type": "code",
   "execution_count": 3,
   "metadata": {
    "collapsed": false
   },
   "outputs": [
    {
     "name": "stdout",
     "output_type": "stream",
     "text": [
      "[[-2. -2. -2.]\n",
      " [-2. -2. -2.]]\n",
      "[[-0.7568025 -0.7568025]\n",
      " [-0.7568025 -0.7568025]\n",
      " [-0.7568025 -0.7568025]]\n",
      "[[ 2.  2.  2.]\n",
      " [ 2.  2.  2.]]\n"
     ]
    }
   ],
   "source": [
    "a = np.ones((2,3))\n",
    "b = np.ones((2,3))\n",
    "c = a + b  # elementwise plus\n",
    "d = - c    # elementwise minus\n",
    "print(d)\n",
    "e = np.sin(c**2).T  # elementwise pow and sin, and then transpose\n",
    "print(e)\n",
    "f = np.maximum(a, c)  # elementwise max\n",
    "print(f)"
   ]
  },
  {
   "cell_type": "markdown",
   "metadata": {},
   "source": [
    "### Indexing and Slicing\n",
    "The slice operator `[]` applies on axis 0. "
   ]
  },
  {
   "cell_type": "code",
   "execution_count": 4,
   "metadata": {
    "collapsed": false
   },
   "outputs": [
    {
     "name": "stdout",
     "output_type": "stream",
     "text": [
      "[[ 0.  1.]\n",
      " [ 2.  3.]\n",
      " [ 4.  5.]]\n",
      "[[ 0.  1.]\n",
      " [-1. -1.]\n",
      " [ 4.  5.]]\n"
     ]
    }
   ],
   "source": [
    "a = np.arange(6)\n",
    "a = np.reshape(a, (3,2))\n",
    "print(a[:])\n",
    "# assign -1 to the 2nd row\n",
    "a[1:2] = -1 \n",
    "print(a)"
   ]
  },
  {
   "cell_type": "markdown",
   "metadata": {},
   "source": [
    "We can also slice a particular axis with the method `slice_axis`"
   ]
  },
  {
   "cell_type": "code",
   "execution_count": 5,
   "metadata": {
    "collapsed": false
   },
   "outputs": [
    {
     "name": "stdout",
     "output_type": "stream",
     "text": [
      "[[ 1.]\n",
      " [-1.]\n",
      " [ 5.]]\n"
     ]
    }
   ],
   "source": [
    "# slice out the 2nd column\n",
    "d = np.slice_axis(a, axis=1, begin=1, end=2)\n",
    "print(d)"
   ]
  },
  {
   "cell_type": "markdown",
   "metadata": {},
   "source": [
    "## Lazy Evaluation\n",
    "\n",
    "MinPy uses lazy evaluation for better performance. When we run `a=b+1` in python, the python thread just pushs the operation into the backend MXNet engine and then returns. There are two benefits for such optimization:\n",
    "1. The main python thread can continue to execute other computations once the previous one is pushed. It is useful for frontend languages with heavy overheads. \n",
    "2. It is easier for the backend engine to explore further optimization, such as auto parallelization.\n",
    "\n",
    "The backend engine is able to resolve the data dependencies and schedule the computations correctly. It is transparent to frontend users. We can explicitly call the method `asnumpy` that copy result data to numpy array, which will wait the computation finished.\n"
   ]
  },
  {
   "cell_type": "code",
   "execution_count": 6,
   "metadata": {
    "collapsed": false
   },
   "outputs": [
    {
     "name": "stdout",
     "output_type": "stream",
     "text": [
      "time for all computations are pushed into the backend engine: 0.082473 sec\n",
      "time for all computations are finished: 2.105203 sec\n"
     ]
    }
   ],
   "source": [
    "import time\n",
    "\n",
    "def do(x, n):\n",
    "    \"\"\"push computation into the backend engine\"\"\"\n",
    "    return [np.dot(x,x) for i in range(n)]\n",
    "def wait(x):\n",
    "    \"\"\"wait until all results are available\"\"\"\n",
    "    for y in x:\n",
    "        y.asnumpy()\n",
    "        \n",
    "tic = time.time()\n",
    "a = np.ones((1000,1000))\n",
    "b = do(a, 50)\n",
    "toc = time.time() - tic\n",
    "print('time for all computations are pushed into the backend engine: %f sec' % (time.time() - tic))\n",
    "wait(b)\n",
    "print('time for all computations are finished: %f sec' % (time.time() - tic))"
   ]
  },
  {
   "cell_type": "markdown",
   "metadata": {},
   "source": [
    "Policy and Context is two fundamental and critical concepts of MinPy, which expose how MinPy works.\n",
    "\n",
    "## Brief Introduction to Policy and Blacklist\n",
    "\n",
    "The truth is, MinPy integrates MXNet NDArray and NumPy into a seamless system. For a single operation, it may have MXNet implementation, pure NumPy implementation, or both of them. MinPy utilizes a policy system to determine which implementaiton should be applied, consisted of build-in policies in `minpy.dispatch.policy` (also aliased in minpy root):\n",
    "\n",
    "- `PreferMXNetPolicy()` [**Default**]: Prefer MXNet. Use NumPy as a transparent fallback, which wil be discussed below.\n",
    "- `OnlyNumPyPolicy()`: Only use NumPy operations.\n",
    "- `OnlyMXNetPolicy()`: Only use MXNet operations.\n",
    "\n",
    "The default policy PreferMXNetPolicy procedure can be expressed naively as below:\n",
    "\n",
    "<img src=\"images/PreferMXNetPolicy.png\" width=50%>\n",
    "\n",
    "However, sometimes the implementation of a same operator will have minor difference between MXNet and NumPy. You will see an example in \"Pitfalls when working together with NumPy\". Due to the number of the combination of NumPy funciton and its arguments is very huge, it's difficult to cover all possibilities of how users call a function.\n",
    "\n",
    "So we design another blacklist machinism for you. The operator in the blacklist will fallback to its numpy implementaiton and the content of blacklist will be prepared when you install MinPy automatically. The procedure of function call under `PerferMXNetPolicy` will become:\n",
    "\n",
    "<img src=\"images/PreferMXNetPolicyWithBlacklist.png\" width=40%>\n",
    "\n",
    "\n",
    "Although we've provided some function to you for switching policy easily (see [Select Policy for Operations](https://minpy.readthedocs.io/en/latest/feature/policy.html)), you really don't need to consider this unless you meet a rare situation that current policy doesn't work properly, which will be discussed in \"Pitfalls when working together with NumPy\" below. "
   ]
  },
  {
   "cell_type": "markdown",
   "metadata": {},
   "source": [
    "## Brief Introduction to Context\n",
    "\n",
    "Context represents the device information which determines where MXNet operations run. MinPy has two built-in Context in `minpy.context`:\n",
    "\n",
    "- `minpy.context.cpu()` [**Default**]: runs on CPU. No device_id needed for CPU context.\n",
    "- `minpy.context.gpu(device_id)`: runs on GPU specified by device_id. Usually gpu(0) is the first GPU in the system. Note that GPU context is only available with MXNet complied with GPU support.\n",
    "\n",
    "Using Context flexibly, You can achieve some advanced features like run your code on multi-device. More details can be found in \"[Select Context for MXNet Operations](https://minpy.readthedocs.io/en/latest/feature/context.html)\""
   ]
  },
  {
   "cell_type": "markdown",
   "metadata": {},
   "source": [
    "## Concept of transparent fallback\n",
    "\n",
    "Since MinPy fully integrates MXNet, it allows you to use GPU to speed up your algorithm with only minor change, while keeping the neat NumPy syntax you just went through. However, NumPy is a giant library with hundreds of operators. Our supported GPU operators are only a subset of them, so it is inevitable that you want to try some functions that are currently missing on GPU side. To solve this problem, MinPy gracefully adopts the NumPy implementation once the operator is missing on GPU side, and handles the memory copies among GPU and CPU for you.\n",
    "\n"
   ]
  },
  {
   "cell_type": "code",
   "execution_count": 7,
   "metadata": {
    "collapsed": false
   },
   "outputs": [
    {
     "name": "stderr",
     "output_type": "stream",
     "text": [
      "\u001b[32mI0928 13:57:24 11210 minpy.array:_synchronize_data:412]\u001b[0m Copy from MXNet array to NumPy array for Array \"4502572480\".\n",
      "\u001b[32mI0928 13:57:24 11210 minpy.array:_synchronize_data:418]\u001b[0m Copy from NumPy array to MXNet array for Array \"4502572320\".\n"
     ]
    }
   ],
   "source": [
    "# First turn on the logging to know what happens under the hood.\n",
    "import logging\n",
    "logging.getLogger('minpy.array').setLevel(logging.DEBUG)\n",
    "\n",
    "# x is created as a MXNet array\n",
    "x = np.zeros((10, 20))\n",
    "\n",
    "\n",
    "# `cosh` is currently missing in MXNet's GPU implementation.\n",
    "# So `x` will fallback to a NumPy array, so you will see a \n",
    "# logging like \"Copy from MXNet array to NumPy array...\", then\n",
    "# NumPy's implementation of `cosh` will be called to get the\n",
    "# result `y` as a NumPy array. But you don't need to worry \n",
    "# about the memory copy from GPU -> CPU\n",
    "y = np.cosh(x)\n",
    "\n",
    "\n",
    "# `log` has MXNet's GPU implementation, so it will copy the \n",
    "# array `y` from NumPy array to MXNet array and you will see\n",
    "# a logging like \"Copy from NumPy array to MXNet array...\"\n",
    "# Once again, you don't need to worry about it. It is transparent.\n",
    "z = np.log(y)\n",
    "\n",
    "\n",
    "# Turn off the logging.\n",
    "logging.getLogger('minpy.array').setLevel(logging.WARN)"
   ]
  },
  {
   "cell_type": "markdown",
   "metadata": {},
   "source": [
    "## Pitfalls when working together with NumPy\n",
    "\n",
    "First, keep in mind that importing MinPy or NumPy as `np` first, instead of using MinPy or NumPy directly in your code. This tip will give your code the maximum compatibility, allowing you to change underlying framework flexibly.\n",
    "\n",
    "Second, it is suggested to use immutable operations as much as possible, because mutable operations will bring some difficulties for our autograd system. For example:"
   ]
  },
  {
   "cell_type": "code",
   "execution_count": 8,
   "metadata": {
    "collapsed": false
   },
   "outputs": [
    {
     "ename": "AttributeError",
     "evalue": "'Array' object has no attribute 'transpose'",
     "output_type": "error",
     "traceback": [
      "\u001b[0;31m---------------------------------------------------------------------------\u001b[0m",
      "\u001b[0;31mAttributeError\u001b[0m                            Traceback (most recent call last)",
      "\u001b[0;32m<ipython-input-8-3cb03798006f>\u001b[0m in \u001b[0;36m<module>\u001b[0;34m()\u001b[0m\n\u001b[1;32m      4\u001b[0m \u001b[0;31m# In MinPy, it will occur an error, since we can't calculate\u001b[0m\u001b[0;34m\u001b[0m\u001b[0;34m\u001b[0m\u001b[0m\n\u001b[1;32m      5\u001b[0m \u001b[0;31m# its gradient.\u001b[0m\u001b[0;34m\u001b[0m\u001b[0;34m\u001b[0m\u001b[0m\n\u001b[0;32m----> 6\u001b[0;31m \u001b[0ma\u001b[0m\u001b[0;34m.\u001b[0m\u001b[0mtranspose\u001b[0m\u001b[0;34m(\u001b[0m\u001b[0;34m)\u001b[0m\u001b[0;34m\u001b[0m\u001b[0m\n\u001b[0m",
      "\u001b[0;31mAttributeError\u001b[0m: 'Array' object has no attribute 'transpose'"
     ]
    }
   ],
   "source": [
    "a = np.zeros((2,3))\n",
    "a = np.transpose(a)\n",
    "# instead of a.transpose(), which is feasible in NumPy.\n",
    "# In MinPy, it will occur an error, since we can't calculate\n",
    "# its gradient.\n",
    "a.transpose()"
   ]
  },
  {
   "cell_type": "markdown",
   "metadata": {},
   "source": [
    "Third, due to the difference between NumPy and MXNet interface, there exist a few of NumPy function cannot work property in the PreferMXNetPolicy. We suggest that try to separate the code into two parts. One is for some non-critical codes like data preparation or visualization. Just use numpy in this part. Another is for performance-critical part like loss function or weight update. Use minpy in this part. Besides, you could always switch namespace by set_global_policy in any place like:"
   ]
  },
  {
   "cell_type": "code",
   "execution_count": 9,
   "metadata": {
    "collapsed": false
   },
   "outputs": [
    {
     "ename": "MXNetError",
     "evalue": "Invalid Parameter format for loc expect float but value='<mxnet.ndarray.NDArray object at 0x124dbec50>'",
     "output_type": "error",
     "traceback": [
      "\u001b[0;31m---------------------------------------------------------------------------\u001b[0m",
      "\u001b[0;31mMXNetError\u001b[0m                                Traceback (most recent call last)",
      "\u001b[0;32m<ipython-input-9-b571fec6adbc>\u001b[0m in \u001b[0;36m<module>\u001b[0;34m()\u001b[0m\n\u001b[1;32m     15\u001b[0m     \u001b[0;32mreturn\u001b[0m \u001b[0mx\u001b[0m\u001b[0;34m,\u001b[0m \u001b[0my\u001b[0m\u001b[0;34m\u001b[0m\u001b[0m\n\u001b[1;32m     16\u001b[0m \u001b[0;34m\u001b[0m\u001b[0m\n\u001b[0;32m---> 17\u001b[0;31m \u001b[0mgaussian_cluster_generator\u001b[0m\u001b[0;34m(\u001b[0m\u001b[0;36m10000\u001b[0m\u001b[0;34m,\u001b[0m \u001b[0;36m500\u001b[0m\u001b[0;34m,\u001b[0m \u001b[0;36m5\u001b[0m\u001b[0;34m)\u001b[0m\u001b[0;34m\u001b[0m\u001b[0m\n\u001b[0m",
      "\u001b[0;32m<ipython-input-9-b571fec6adbc>\u001b[0m in \u001b[0;36mgaussian_cluster_generator\u001b[0;34m(num_samples, num_features, num_classes)\u001b[0m\n\u001b[1;32m     10\u001b[0m     \u001b[0;32mfor\u001b[0m \u001b[0mi\u001b[0m \u001b[0;32min\u001b[0m \u001b[0mrange\u001b[0m\u001b[0;34m(\u001b[0m\u001b[0mnum_classes\u001b[0m\u001b[0;34m)\u001b[0m\u001b[0;34m:\u001b[0m\u001b[0;34m\u001b[0m\u001b[0m\n\u001b[1;32m     11\u001b[0m         \u001b[0;31m# this line will occur an error\u001b[0m\u001b[0;34m\u001b[0m\u001b[0;34m\u001b[0m\u001b[0m\n\u001b[0;32m---> 12\u001b[0;31m         \u001b[0mcls_samples\u001b[0m \u001b[0;34m=\u001b[0m \u001b[0mnp\u001b[0m\u001b[0;34m.\u001b[0m\u001b[0mrandom\u001b[0m\u001b[0;34m.\u001b[0m\u001b[0mnormal\u001b[0m\u001b[0;34m(\u001b[0m\u001b[0mmu\u001b[0m\u001b[0;34m[\u001b[0m\u001b[0mi\u001b[0m\u001b[0;34m,\u001b[0m\u001b[0;34m:\u001b[0m\u001b[0;34m]\u001b[0m\u001b[0;34m,\u001b[0m \u001b[0msigma\u001b[0m\u001b[0;34m[\u001b[0m\u001b[0mi\u001b[0m\u001b[0;34m,\u001b[0m\u001b[0;34m:\u001b[0m\u001b[0;34m]\u001b[0m\u001b[0;34m,\u001b[0m \u001b[0;34m(\u001b[0m\u001b[0mnum_cls_samples\u001b[0m\u001b[0;34m,\u001b[0m \u001b[0mnum_features\u001b[0m\u001b[0;34m)\u001b[0m\u001b[0;34m)\u001b[0m\u001b[0;34m\u001b[0m\u001b[0m\n\u001b[0m\u001b[1;32m     13\u001b[0m         \u001b[0mx\u001b[0m\u001b[0;34m[\u001b[0m\u001b[0mi\u001b[0m\u001b[0;34m*\u001b[0m\u001b[0mnum_cls_samples\u001b[0m\u001b[0;34m:\u001b[0m\u001b[0;34m(\u001b[0m\u001b[0mi\u001b[0m\u001b[0;34m+\u001b[0m\u001b[0;36m1\u001b[0m\u001b[0;34m)\u001b[0m\u001b[0;34m*\u001b[0m\u001b[0mnum_cls_samples\u001b[0m\u001b[0;34m]\u001b[0m \u001b[0;34m=\u001b[0m \u001b[0mcls_samples\u001b[0m\u001b[0;34m\u001b[0m\u001b[0m\n\u001b[1;32m     14\u001b[0m         \u001b[0my\u001b[0m\u001b[0;34m[\u001b[0m\u001b[0mi\u001b[0m\u001b[0;34m*\u001b[0m\u001b[0mnum_cls_samples\u001b[0m\u001b[0;34m:\u001b[0m\u001b[0;34m(\u001b[0m\u001b[0mi\u001b[0m\u001b[0;34m+\u001b[0m\u001b[0;36m1\u001b[0m\u001b[0;34m)\u001b[0m\u001b[0;34m*\u001b[0m\u001b[0mnum_cls_samples\u001b[0m\u001b[0;34m,\u001b[0m\u001b[0mi\u001b[0m\u001b[0;34m]\u001b[0m \u001b[0;34m=\u001b[0m \u001b[0;36m1\u001b[0m\u001b[0;34m\u001b[0m\u001b[0m\n",
      "\u001b[0;32m/Users/ATlaS/Library/PyEnvs/jupyter/lib/python2.7/site-packages/minpy-0.2.1-py2.7.egg/minpy/dispatch/primitive_selector.pyc\u001b[0m in \u001b[0;36m__call__\u001b[0;34m(self, *args, **kwargs)\u001b[0m\n\u001b[1;32m     39\u001b[0m         _logger.debug('Found primitive \"{}\" with type {}.'.format(\n\u001b[1;32m     40\u001b[0m             self._name, prim.typestr))\n\u001b[0;32m---> 41\u001b[0;31m         \u001b[0;32mreturn\u001b[0m \u001b[0mprim\u001b[0m\u001b[0;34m(\u001b[0m\u001b[0;34m*\u001b[0m\u001b[0margs\u001b[0m\u001b[0;34m,\u001b[0m \u001b[0;34m**\u001b[0m\u001b[0mkwargs\u001b[0m\u001b[0;34m)\u001b[0m\u001b[0;34m\u001b[0m\u001b[0m\n\u001b[0m",
      "\u001b[0;32m/Users/ATlaS/Library/PyEnvs/jupyter/lib/python2.7/site-packages/minpy-0.2.1-py2.7.egg/minpy/primitive.pyc\u001b[0m in \u001b[0;36m__call__\u001b[0;34m(self, *args, **kwargs)\u001b[0m\n\u001b[1;32m    131\u001b[0m         \u001b[0;32mif\u001b[0m \u001b[0mself\u001b[0m\u001b[0;34m.\u001b[0m\u001b[0mtype\u001b[0m \u001b[0;34m==\u001b[0m \u001b[0mArrayType\u001b[0m\u001b[0;34m.\u001b[0m\u001b[0mMXNET\u001b[0m\u001b[0;34m:\u001b[0m\u001b[0;34m\u001b[0m\u001b[0m\n\u001b[1;32m    132\u001b[0m             \u001b[0;32mwith\u001b[0m \u001b[0mcontext\u001b[0m\u001b[0;34m.\u001b[0m\u001b[0mcurrent_context\u001b[0m\u001b[0;34m(\u001b[0m\u001b[0;34m)\u001b[0m\u001b[0;34m.\u001b[0m\u001b[0mas_mxnet_context\u001b[0m\u001b[0;34m(\u001b[0m\u001b[0;34m)\u001b[0m\u001b[0;34m:\u001b[0m\u001b[0;34m\u001b[0m\u001b[0m\n\u001b[0;32m--> 133\u001b[0;31m                 \u001b[0mresult_value\u001b[0m \u001b[0;34m=\u001b[0m \u001b[0mself\u001b[0m\u001b[0;34m.\u001b[0m\u001b[0m_func\u001b[0m\u001b[0;34m(\u001b[0m\u001b[0;34m*\u001b[0m\u001b[0marg_values\u001b[0m\u001b[0;34m,\u001b[0m \u001b[0;34m**\u001b[0m\u001b[0mkwargs_values\u001b[0m\u001b[0;34m)\u001b[0m\u001b[0;34m\u001b[0m\u001b[0m\n\u001b[0m\u001b[1;32m    134\u001b[0m         \u001b[0;32melse\u001b[0m\u001b[0;34m:\u001b[0m\u001b[0;34m\u001b[0m\u001b[0m\n\u001b[1;32m    135\u001b[0m             \u001b[0mresult_value\u001b[0m \u001b[0;34m=\u001b[0m \u001b[0mself\u001b[0m\u001b[0;34m.\u001b[0m\u001b[0m_func\u001b[0m\u001b[0;34m(\u001b[0m\u001b[0;34m*\u001b[0m\u001b[0marg_values\u001b[0m\u001b[0;34m,\u001b[0m \u001b[0;34m**\u001b[0m\u001b[0mkwargs_values\u001b[0m\u001b[0;34m)\u001b[0m\u001b[0;34m\u001b[0m\u001b[0m\n",
      "\u001b[0;32m/Users/ATlaS/Library/PyEnvs/jupyter/lib/python2.7/site-packages/mxnet-0.7.0-py2.7.egg/mxnet/random.pyc\u001b[0m in \u001b[0;36mnormal\u001b[0;34m(loc, scale, shape, ctx, out)\u001b[0m\n\u001b[1;32m     73\u001b[0m             \u001b[0mshape\u001b[0m \u001b[0;34m=\u001b[0m \u001b[0;34m(\u001b[0m\u001b[0mshape\u001b[0m\u001b[0;34m,\u001b[0m\u001b[0;34m)\u001b[0m\u001b[0;34m\u001b[0m\u001b[0m\n\u001b[1;32m     74\u001b[0m         \u001b[0mout\u001b[0m \u001b[0;34m=\u001b[0m \u001b[0mempty\u001b[0m\u001b[0;34m(\u001b[0m\u001b[0mshape\u001b[0m\u001b[0;34m,\u001b[0m \u001b[0mctx\u001b[0m\u001b[0;34m)\u001b[0m\u001b[0;34m\u001b[0m\u001b[0m\n\u001b[0;32m---> 75\u001b[0;31m     \u001b[0;32mreturn\u001b[0m \u001b[0m_internal\u001b[0m\u001b[0;34m.\u001b[0m\u001b[0m_sample_normal\u001b[0m\u001b[0;34m(\u001b[0m\u001b[0mloc\u001b[0m\u001b[0;34m=\u001b[0m\u001b[0mloc\u001b[0m\u001b[0;34m,\u001b[0m \u001b[0mscale\u001b[0m\u001b[0;34m=\u001b[0m\u001b[0mscale\u001b[0m\u001b[0;34m,\u001b[0m \u001b[0mshape\u001b[0m\u001b[0;34m=\u001b[0m\u001b[0mout\u001b[0m\u001b[0;34m.\u001b[0m\u001b[0mshape\u001b[0m\u001b[0;34m,\u001b[0m \u001b[0mout\u001b[0m\u001b[0;34m=\u001b[0m\u001b[0mout\u001b[0m\u001b[0;34m)\u001b[0m\u001b[0;34m\u001b[0m\u001b[0m\n\u001b[0m\u001b[1;32m     76\u001b[0m \u001b[0;34m\u001b[0m\u001b[0m\n\u001b[1;32m     77\u001b[0m \u001b[0;34m\u001b[0m\u001b[0m\n",
      "\u001b[0;32m/Users/ATlaS/Library/PyEnvs/jupyter/lib/python2.7/site-packages/mxnet-0.7.0-py2.7.egg/mxnet/ndarray.pyc\u001b[0m in \u001b[0;36mgeneric_ndarray_function\u001b[0;34m(*args, **kwargs)\u001b[0m\n\u001b[1;32m   1210\u001b[0m             \u001b[0mctypes\u001b[0m\u001b[0;34m.\u001b[0m\u001b[0mc_int\u001b[0m\u001b[0;34m(\u001b[0m\u001b[0mlen\u001b[0m\u001b[0;34m(\u001b[0m\u001b[0mkwargs\u001b[0m\u001b[0;34m)\u001b[0m\u001b[0;34m)\u001b[0m\u001b[0;34m,\u001b[0m\u001b[0;31m \u001b[0m\u001b[0;31m\\\u001b[0m\u001b[0;34m\u001b[0m\u001b[0m\n\u001b[1;32m   1211\u001b[0m             \u001b[0mc_array\u001b[0m\u001b[0;34m(\u001b[0m\u001b[0mctypes\u001b[0m\u001b[0;34m.\u001b[0m\u001b[0mc_char_p\u001b[0m\u001b[0;34m,\u001b[0m \u001b[0;34m[\u001b[0m\u001b[0mc_str\u001b[0m\u001b[0;34m(\u001b[0m\u001b[0mkey\u001b[0m\u001b[0;34m)\u001b[0m \u001b[0;32mfor\u001b[0m \u001b[0mkey\u001b[0m \u001b[0;32min\u001b[0m \u001b[0mkwargs\u001b[0m\u001b[0;34m.\u001b[0m\u001b[0mkeys\u001b[0m\u001b[0;34m(\u001b[0m\u001b[0;34m)\u001b[0m\u001b[0;34m]\u001b[0m\u001b[0;34m)\u001b[0m\u001b[0;34m,\u001b[0m\u001b[0;31m \u001b[0m\u001b[0;31m\\\u001b[0m\u001b[0;34m\u001b[0m\u001b[0m\n\u001b[0;32m-> 1212\u001b[0;31m             c_array(ctypes.c_char_p, [c_str(str(i)) for i in kwargs.values()])))\n\u001b[0m\u001b[1;32m   1213\u001b[0m         \u001b[0;32mif\u001b[0m \u001b[0mn_mutate_vars\u001b[0m \u001b[0;34m==\u001b[0m \u001b[0;36m1\u001b[0m\u001b[0;34m:\u001b[0m\u001b[0;34m\u001b[0m\u001b[0m\n\u001b[1;32m   1214\u001b[0m             \u001b[0;32mreturn\u001b[0m \u001b[0mmutate_vars\u001b[0m\u001b[0;34m[\u001b[0m\u001b[0;36m0\u001b[0m\u001b[0;34m]\u001b[0m\u001b[0;34m\u001b[0m\u001b[0m\n",
      "\u001b[0;32m/Users/ATlaS/Library/PyEnvs/jupyter/lib/python2.7/site-packages/mxnet-0.7.0-py2.7.egg/mxnet/base.pyc\u001b[0m in \u001b[0;36mcheck_call\u001b[0;34m(ret)\u001b[0m\n\u001b[1;32m     75\u001b[0m     \"\"\"\n\u001b[1;32m     76\u001b[0m     \u001b[0;32mif\u001b[0m \u001b[0mret\u001b[0m \u001b[0;34m!=\u001b[0m \u001b[0;36m0\u001b[0m\u001b[0;34m:\u001b[0m\u001b[0;34m\u001b[0m\u001b[0m\n\u001b[0;32m---> 77\u001b[0;31m         \u001b[0;32mraise\u001b[0m \u001b[0mMXNetError\u001b[0m\u001b[0;34m(\u001b[0m\u001b[0mpy_str\u001b[0m\u001b[0;34m(\u001b[0m\u001b[0m_LIB\u001b[0m\u001b[0;34m.\u001b[0m\u001b[0mMXGetLastError\u001b[0m\u001b[0;34m(\u001b[0m\u001b[0;34m)\u001b[0m\u001b[0;34m)\u001b[0m\u001b[0;34m)\u001b[0m\u001b[0;34m\u001b[0m\u001b[0m\n\u001b[0m\u001b[1;32m     78\u001b[0m \u001b[0;34m\u001b[0m\u001b[0m\n\u001b[1;32m     79\u001b[0m \u001b[0;32mif\u001b[0m \u001b[0msys\u001b[0m\u001b[0;34m.\u001b[0m\u001b[0mversion_info\u001b[0m\u001b[0;34m[\u001b[0m\u001b[0;36m0\u001b[0m\u001b[0;34m]\u001b[0m \u001b[0;34m<\u001b[0m \u001b[0;36m3\u001b[0m\u001b[0;34m:\u001b[0m\u001b[0;34m\u001b[0m\u001b[0m\n",
      "\u001b[0;31mMXNetError\u001b[0m: Invalid Parameter format for loc expect float but value='<mxnet.ndarray.NDArray object at 0x124dbec50>'"
     ]
    }
   ],
   "source": [
    "# In PreferMXNetPolicy, np.random.normal will redirect to MXNet's implementation\n",
    "# but it does not support mu and sigma to be arrays (only scalar\n",
    "# is supported right now).\n",
    "def gaussian_cluster_generator(num_samples=10000, num_features=500, num_classes=5):\n",
    "    mu = np.random.rand(num_classes, num_features)\n",
    "    sigma = np.ones((num_classes, num_features)) * 0.1\n",
    "    num_cls_samples = num_samples / num_classes\n",
    "    x = np.zeros((num_samples, num_features))\n",
    "    y = np.zeros((num_samples, num_classes))\n",
    "    for i in range(num_classes):\n",
    "        # this line will occur an error\n",
    "        cls_samples = np.random.normal(mu[i,:], sigma[i,:], (num_cls_samples, num_features))\n",
    "        x[i*num_cls_samples:(i+1)*num_cls_samples] = cls_samples\n",
    "        y[i*num_cls_samples:(i+1)*num_cls_samples,i] = 1\n",
    "    return x, y\n",
    "\n",
    "gaussian_cluster_generator(10000, 500, 5)"
   ]
  },
  {
   "cell_type": "code",
   "execution_count": 10,
   "metadata": {
    "collapsed": false
   },
   "outputs": [
    {
     "data": {
      "text/plain": [
       "([[ 0.3434306   0.91109807  0.81138594 ...,  0.2046174   0.65634542\n",
       "    0.28674177]\n",
       "  [ 0.42330647  1.12805209  0.75757002 ...,  0.39964763  0.67332741\n",
       "    0.3329061 ]\n",
       "  [ 0.17643755  0.98228017  0.7354436  ...,  0.21712442  0.6823966\n",
       "    0.30745387]\n",
       "  ..., \n",
       "  [ 0.95788697  0.22241664  0.40826581 ...,  0.74575702  0.86119581\n",
       "    0.169201  ]\n",
       "  [ 0.77587111  0.25159795  0.47107019 ...,  0.86087215  0.71302598\n",
       "    0.46475238]\n",
       "  [ 0.79927081  0.17099329  0.59225605 ...,  0.7175653   0.59175765\n",
       "    0.43652729]], [[ 1.  0.  0.  0.  0.]\n",
       "  [ 1.  0.  0.  0.  0.]\n",
       "  [ 1.  0.  0.  0.  0.]\n",
       "  ..., \n",
       "  [ 0.  0.  0.  0.  1.]\n",
       "  [ 0.  0.  0.  0.  1.]\n",
       "  [ 0.  0.  0.  0.  1.]])"
      ]
     },
     "execution_count": 10,
     "metadata": {},
     "output_type": "execute_result"
    }
   ],
   "source": [
    "import minpy\n",
    "\n",
    "# This could be fixed once MXNet supports that. For now, you\n",
    "# can change the policy of this function by adding\n",
    "# @minpy.wrap_policy(minpy.OnlyNumPyPolicy()) in front of the\n",
    "# function\n",
    "@minpy.wrap_policy(minpy.OnlyNumPyPolicy())\n",
    "def gaussian_cluster_generator_fixed(num_samples=10000, num_features=500, num_classes=5):\n",
    "    mu = np.random.rand(num_classes, num_features)\n",
    "    sigma = np.ones((num_classes, num_features)) * 0.1\n",
    "    num_cls_samples = num_samples / num_classes\n",
    "    x = np.zeros((num_samples, num_features))\n",
    "    y = np.zeros((num_samples, num_classes))\n",
    "    for i in range(num_classes):\n",
    "        cls_samples = np.random.normal(mu[i,:], sigma[i,:], (num_cls_samples, num_features))\n",
    "        x[i*num_cls_samples:(i+1)*num_cls_samples] = cls_samples\n",
    "        y[i*num_cls_samples:(i+1)*num_cls_samples,i] = 1\n",
    "    return x, y\n",
    "\n",
    "# output the right result now\n",
    "gaussian_cluster_generator_fixed(10000, 500, 5)"
   ]
  }
 ],
 "metadata": {
  "kernelspec": {
   "display_name": "Python 2",
   "language": "python",
   "name": "python2"
  },
  "language_info": {
   "codemirror_mode": {
    "name": "ipython",
    "version": 2
   },
   "file_extension": ".py",
   "mimetype": "text/x-python",
   "name": "python",
   "nbconvert_exporter": "python",
   "pygments_lexer": "ipython2",
   "version": "2.7.10"
  }
 },
 "nbformat": 4,
 "nbformat_minor": 1
}
